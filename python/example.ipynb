{
 "cells": [
  {
   "cell_type": "code",
   "execution_count": 12,
   "metadata": {},
   "outputs": [
    {
     "name": "stdout",
     "output_type": "stream",
     "text": [
      "The autoreload extension is already loaded. To reload it, use:\n",
      "  %reload_ext autoreload\n"
     ]
    }
   ],
   "source": [
    "%load_ext autoreload"
   ]
  },
  {
   "cell_type": "code",
   "execution_count": 121,
   "metadata": {},
   "outputs": [
    {
     "name": "stdout",
     "output_type": "stream",
     "text": [
      "<Archive at '/Users/ianbicking/src/personal-history-archive'>\n"
     ]
    }
   ],
   "source": [
    "%autoreload\n",
    "import pha\n",
    "import pha.htmltools\n",
    "archive = pha.Archive.default_location()\n",
    "print(archive)"
   ]
  },
  {
   "cell_type": "code",
   "execution_count": 122,
   "metadata": {},
   "outputs": [
    {
     "name": "stdout",
     "output_type": "stream",
     "text": [
      "3698\n"
     ]
    }
   ],
   "source": [
    "histories = archive.histories_with_page()\n",
    "print(len(histories))"
   ]
  },
  {
   "cell_type": "code",
   "execution_count": 123,
   "metadata": {},
   "outputs": [
    {
     "data": {
      "text/plain": [
       "<History http://talkingpointsmemo.com/ #visits=292>"
      ]
     },
     "execution_count": 123,
     "metadata": {},
     "output_type": "execute_result"
    }
   ],
   "source": [
    "histories[0]"
   ]
  },
  {
   "cell_type": "code",
   "execution_count": 105,
   "metadata": {},
   "outputs": [],
   "source": [
    "import re\n",
    "from nltk.stem import PorterStemmer\n",
    "\n",
    "mixed_regex = re.compile(r'([a-z])([A-Z])')\n",
    "non_char_regex = re.compile(r'[^a-z]', re.I)\n",
    "stemmer = PorterStemmer()\n",
    "\n",
    "def wordify(c):\n",
    "    \"\"\"Changes a class into a set of words\"\"\"\n",
    "    c = mixed_regex.sub(r\"\\1 \\2\", c)\n",
    "    c = c.replace(\"-\", \" \").replace(\"_\", \" \")\n",
    "    c = non_char_regex.sub(\"\", c)\n",
    "    return \" \".join(c.lower().split())\n",
    "\n",
    "def stem_words(c):\n",
    "    return \" \".join([stemmer.stem(w) for w in c.split()])\n",
    "\n",
    "def sort_words(c):\n",
    "    return \" \".join(sorted(c.split()))\n"
   ]
  },
  {
   "cell_type": "code",
   "execution_count": 124,
   "metadata": {},
   "outputs": [],
   "source": [
    "from collections import Counter\n",
    "\n",
    "def count_classes(doc):\n",
    "    counter = Counter()\n",
    "    for el in doc.cssselect(\"*[class]\"):\n",
    "        for phrase in pha.htmltools.normalize_classes(el):\n",
    "            counter[phrase] += 1\n",
    "    return counter"
   ]
  },
  {
   "cell_type": "code",
   "execution_count": 125,
   "metadata": {},
   "outputs": [],
   "source": [
    "base_counter = Counter()\n",
    "by_doc = Counter()\n",
    "for history in histories:\n",
    "    c = count_classes(history.page.lxml)\n",
    "    base_counter.update(c)\n",
    "    by_doc.update(c.keys())"
   ]
  },
  {
   "cell_type": "code",
   "execution_count": 108,
   "metadata": {},
   "outputs": [
    {
     "data": {
      "text/plain": [
       "(162660, 162660)"
      ]
     },
     "execution_count": 108,
     "metadata": {},
     "output_type": "execute_result"
    }
   ],
   "source": [
    "len(base_counter), len(by_doc)"
   ]
  },
  {
   "cell_type": "code",
   "execution_count": 110,
   "metadata": {},
   "outputs": [
    {
     "name": "stdout",
     "output_type": "stream",
     "text": [
      "Total counts: [('author', 67643), ('noncollaps', 71266), ('mayblank', 71672), ('thing', 74249), ('reportform', 74249), ('child', 74249), ('entri', 74270), ('parent', 74387), ('flatlist', 74999), ('taglin', 74999), ('gb', 78481), ('button', 90534), ('bylink', 99740), ('arrow', 121432), ('noctrlf', 147611), ('clearleft', 148501), ('score', 178709), ('unvot', 194032), ('accessrequir', 298519), ('loginrequir', 357697)]\n",
      "By document: [('bottom', 844), ('separ', 873), ('option', 892), ('ad', 905), ('activ', 915), ('link', 937), ('comment', 961), ('hidden', 966), ('dropdown', 999), ('footer', 1031), ('author', 1049), ('button', 1067), ('titl', 1087), ('col', 1120), ('md', 1123), ('content', 1133), ('btn', 1161), ('contain', 1168), ('icon', 1233), ('select', 1242)]\n"
     ]
    }
   ],
   "source": [
    "print(\"Total counts:\", sorted(base_counter.items(), key=lambda x: x[1])[-20:])\n",
    "print(\"By document:\", sorted(by_doc.items(), key=lambda x: x[1])[-20:])"
   ]
  },
  {
   "cell_type": "code",
   "execution_count": 126,
   "metadata": {},
   "outputs": [
    {
     "name": "stdout",
     "output_type": "stream",
     "text": [
      "#: 7625836 bytes: 76143784\n"
     ]
    }
   ],
   "source": [
    "all_classes = []\n",
    "for history in histories:\n",
    "    for el in history.page.lxml.cssselect(\"*[class]\"):\n",
    "        all_classes.extend(pha.htmltools.normalize_classes(el))\n",
    "print(\"#:\", len(all_classes), \"bytes:\", len(\" \".join(all_classes)))"
   ]
  },
  {
   "cell_type": "code",
   "execution_count": 127,
   "metadata": {},
   "outputs": [],
   "source": [
    "with open(\"all-classes.txt\", \"w\") as fp:\n",
    "    fp.write(\" \".join(all_classes))"
   ]
  },
  {
   "cell_type": "code",
   "execution_count": null,
   "metadata": {},
   "outputs": [],
   "source": []
  }
 ],
 "metadata": {
  "kernelspec": {
   "display_name": "Python 3",
   "language": "python",
   "name": "python3"
  },
  "language_info": {
   "codemirror_mode": {
    "name": "ipython",
    "version": 3
   },
   "file_extension": ".py",
   "mimetype": "text/x-python",
   "name": "python",
   "nbconvert_exporter": "python",
   "pygments_lexer": "ipython3",
   "version": "3.5.1"
  }
 },
 "nbformat": 4,
 "nbformat_minor": 2
}
