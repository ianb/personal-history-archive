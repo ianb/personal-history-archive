{
 "cells": [
  {
   "cell_type": "code",
   "execution_count": 1,
   "metadata": {},
   "outputs": [],
   "source": [
    "%load_ext autoreload"
   ]
  },
  {
   "cell_type": "code",
   "execution_count": 2,
   "metadata": {},
   "outputs": [
    {
     "name": "stdout",
     "output_type": "stream",
     "text": [
      "<Archive at '/Users/ianbicking/src/personal-history-archive'>\n"
     ]
    }
   ],
   "source": [
    "%autoreload\n",
    "import pha\n",
    "import pha.htmltools\n",
    "archive = pha.Archive.default_location()\n",
    "print(archive)"
   ]
  },
  {
   "cell_type": "code",
   "execution_count": 3,
   "metadata": {},
   "outputs": [
    {
     "name": "stdout",
     "output_type": "stream",
     "text": [
      "13049\n"
     ]
    }
   ],
   "source": [
    "histories = archive.histories_with_page()\n",
    "print(len(histories))"
   ]
  },
  {
   "cell_type": "code",
   "execution_count": 6,
   "metadata": {},
   "outputs": [
    {
     "data": {
      "text/plain": [
       "<History https://news.ycombinator.com/ #visits=356>"
      ]
     },
     "execution_count": 6,
     "metadata": {},
     "output_type": "execute_result"
    }
   ],
   "source": [
    "histories[2]"
   ]
  },
  {
   "cell_type": "code",
   "execution_count": 7,
   "metadata": {},
   "outputs": [],
   "source": [
    "from collections import Counter\n",
    "\n",
    "def count_classes(doc):\n",
    "    counter = Counter()\n",
    "    for el in doc.cssselect(\"*[class]\"):\n",
    "        for phrase in pha.htmltools.normalize_classes(el):\n",
    "            counter[phrase] += 1\n",
    "    return counter"
   ]
  },
  {
   "cell_type": "code",
   "execution_count": 8,
   "metadata": {},
   "outputs": [],
   "source": [
    "base_counter = Counter()\n",
    "by_doc = Counter()\n",
    "for history in histories:\n",
    "    c = count_classes(history.page.lxml)\n",
    "    base_counter.update(c)\n",
    "    by_doc.update(c.keys())"
   ]
  },
  {
   "cell_type": "code",
   "execution_count": 9,
   "metadata": {},
   "outputs": [
    {
     "data": {
      "text/plain": [
       "(280151, 280151)"
      ]
     },
     "execution_count": 9,
     "metadata": {},
     "output_type": "execute_result"
    }
   ],
   "source": [
    "len(base_counter), len(by_doc)"
   ]
  },
  {
   "cell_type": "code",
   "execution_count": 10,
   "metadata": {},
   "outputs": [
    {
     "name": "stdout",
     "output_type": "stream",
     "text": [
      "Total counts: [('blank-may', 115345), ('noncollaps', 122856), ('reportform', 127379), ('thing', 127395), ('child', 127401), ('entri', 127438), ('parent', 127660), ('flat-list', 128492), ('taglin', 128495), ('-gb', 143091), ('button', 163053), ('bylink', 169683), ('arrow', 205311), ('scope-style', 215843), ('ctrl-f-no', 253178), ('clearleft', 254758), ('score', 299354), ('unvot', 328883), ('access-requir', 503082), ('login-requir', 602254)]\n",
      "By document: [('clear', 1513), ('js', 1548), ('hidden', 1553), ('undefin', 1604), ('comment', 1707), ('md', 1751), ('col', 1752), ('link', 1784), ('activ', 1858), ('titl', 1948), ('author', 2014), ('dropdown', 2113), ('footer', 2136), ('button', 2155), ('select', 2354), ('fit-shrink-to', 2396), ('btn', 2534), ('contain', 2539), ('icon', 2632), ('content', 3173)]\n"
     ]
    }
   ],
   "source": [
    "print(\"Total counts:\", sorted(base_counter.items(), key=lambda x: x[1])[-20:])\n",
    "print(\"By document:\", sorted(by_doc.items(), key=lambda x: x[1])[-20:])"
   ]
  },
  {
   "cell_type": "markdown",
   "metadata": {},
   "source": [
    "## Prepare classes to be vectorized\n",
    "\n",
    "This creates one long file that has all the concatenated stemmed class names for all documents. This is reasonable for training different embedding vectors (mapping class names to vectors of floats):"
   ]
  },
  {
   "cell_type": "code",
   "execution_count": 14,
   "metadata": {},
   "outputs": [
    {
     "name": "stdout",
     "output_type": "stream",
     "text": [
      "#: 16318017 Mb: 170\n"
     ]
    }
   ],
   "source": [
    "%autoreload\n",
    "import pha.htmltools\n",
    "import random\n",
    "shuffled_histories = list(histories)\n",
    "random.shuffle(shuffled_histories)\n",
    "all_classes = []\n",
    "for history in shuffled_histories:\n",
    "    for el in history.page.lxml.cssselect(\"*[class]\"):\n",
    "        all_classes.extend(pha.htmltools.normalize_classes(el, shuffle=True))\n",
    "print(\"#:\", len(all_classes), \"Mb:\", len(\" \".join(all_classes)) // 1000000)"
   ]
  },
  {
   "cell_type": "code",
   "execution_count": 15,
   "metadata": {},
   "outputs": [],
   "source": [
    "with open(\"all-classes.txt\", \"w\") as fp:\n",
    "    fp.write(\" \".join(all_classes))"
   ]
  },
  {
   "cell_type": "code",
   "execution_count": null,
   "metadata": {},
   "outputs": [],
   "source": []
  }
 ],
 "metadata": {
  "kernelspec": {
   "display_name": "Python 3",
   "language": "python",
   "name": "python3"
  },
  "language_info": {
   "codemirror_mode": {
    "name": "ipython",
    "version": 3
   },
   "file_extension": ".py",
   "mimetype": "text/x-python",
   "name": "python",
   "nbconvert_exporter": "python",
   "pygments_lexer": "ipython3",
   "version": "3.5.1"
  }
 },
 "nbformat": 4,
 "nbformat_minor": 2
}
