{
 "cells": [
  {
   "cell_type": "code",
   "execution_count": 2,
   "metadata": {},
   "outputs": [],
   "source": [
    "%load_ext autoreload"
   ]
  },
  {
   "cell_type": "code",
   "execution_count": 3,
   "metadata": {},
   "outputs": [
    {
     "name": "stdout",
     "output_type": "stream",
     "text": [
      "<Archive at '/Users/ianbicking/src/personal-history-archive' 19596/52625 fetched, 31043 errored>\n"
     ]
    }
   ],
   "source": [
    "%autoreload\n",
    "import pha\n",
    "import pha.htmltools\n",
    "archive = pha.Archive.default_location()\n",
    "print(archive)"
   ]
  },
  {
   "cell_type": "code",
   "execution_count": 4,
   "metadata": {},
   "outputs": [
    {
     "name": "stdout",
     "output_type": "stream",
     "text": [
      "14995\n"
     ]
    }
   ],
   "source": [
    "histories = archive.histories_with_page()\n",
    "print(len(histories))"
   ]
  },
  {
   "cell_type": "code",
   "execution_count": 6,
   "metadata": {},
   "outputs": [
    {
     "data": {
      "text/plain": [
       "<History https://github.com/mozilla-services/screenshots/pulls #visits=522>"
      ]
     },
     "execution_count": 6,
     "metadata": {},
     "output_type": "execute_result"
    }
   ],
   "source": [
    "histories[0]"
   ]
  },
  {
   "cell_type": "code",
   "execution_count": 7,
   "metadata": {},
   "outputs": [],
   "source": [
    "from collections import Counter\n",
    "\n",
    "def count_classes(doc):\n",
    "    counter = Counter()\n",
    "    for el in doc.cssselect(\"*[class]\"):\n",
    "        for phrase in pha.htmltools.normalize_classes(el):\n",
    "            counter[phrase] += 1\n",
    "    return counter"
   ]
  },
  {
   "cell_type": "code",
   "execution_count": 8,
   "metadata": {},
   "outputs": [],
   "source": [
    "base_counter = Counter()\n",
    "by_doc = Counter()\n",
    "for history in histories:\n",
    "    c = count_classes(history.page.lxml)\n",
    "    base_counter.update(c)\n",
    "    by_doc.update(c.keys())"
   ]
  },
  {
   "cell_type": "code",
   "execution_count": 9,
   "metadata": {},
   "outputs": [
    {
     "data": {
      "text/plain": [
       "(280151, 280151)"
      ]
     },
     "execution_count": 9,
     "metadata": {},
     "output_type": "execute_result"
    }
   ],
   "source": [
    "len(base_counter), len(by_doc)"
   ]
  },
  {
   "cell_type": "code",
   "execution_count": 10,
   "metadata": {},
   "outputs": [
    {
     "name": "stdout",
     "output_type": "stream",
     "text": [
      "Total counts: [('blank-may', 115345), ('noncollaps', 122856), ('reportform', 127379), ('thing', 127395), ('child', 127401), ('entri', 127438), ('parent', 127660), ('flat-list', 128492), ('taglin', 128495), ('-gb', 143091), ('button', 163053), ('bylink', 169683), ('arrow', 205311), ('scope-style', 215843), ('ctrl-f-no', 253178), ('clearleft', 254758), ('score', 299354), ('unvot', 328883), ('access-requir', 503082), ('login-requir', 602254)]\n",
      "By document: [('clear', 1513), ('js', 1548), ('hidden', 1553), ('undefin', 1604), ('comment', 1707), ('md', 1751), ('col', 1752), ('link', 1784), ('activ', 1858), ('titl', 1948), ('author', 2014), ('dropdown', 2113), ('footer', 2136), ('button', 2155), ('select', 2354), ('fit-shrink-to', 2396), ('btn', 2534), ('contain', 2539), ('icon', 2632), ('content', 3173)]\n"
     ]
    }
   ],
   "source": [
    "print(\"Total counts:\", sorted(base_counter.items(), key=lambda x: x[1])[-20:])\n",
    "print(\"By document:\", sorted(by_doc.items(), key=lambda x: x[1])[-20:])"
   ]
  },
  {
   "cell_type": "markdown",
   "metadata": {},
   "source": [
    "## Prepare classes to be vectorized\n",
    "\n",
    "This creates one long file that has all the concatenated stemmed class names for all documents. This is reasonable for training different embedding vectors (mapping class names to vectors of floats):"
   ]
  },
  {
   "cell_type": "code",
   "execution_count": 52,
   "metadata": {},
   "outputs": [],
   "source": [
    "%autoreload\n",
    "import pha.glovehelper\n",
    "pha.glovehelper.set_glove_path(\"/Users/ianbicking/src/personal-history-archive/tmp/GloVe\")"
   ]
  },
  {
   "cell_type": "code",
   "execution_count": 53,
   "metadata": {},
   "outputs": [
    {
     "name": "stdout",
     "output_type": "stream",
     "text": [
      "#: 23005752 Mb: 232\n"
     ]
    }
   ],
   "source": [
    "%autoreload\n",
    "import pha.htmltools\n",
    "import random\n",
    "shuffled_histories = list(histories)\n",
    "random.shuffle(shuffled_histories)\n",
    "all_classes = []\n",
    "for history in shuffled_histories:\n",
    "    for el in history.page.lxml.iter():\n",
    "        classes = pha.htmltools.normalize_classes(el, shuffle=True)\n",
    "        if classes:\n",
    "            all_classes.extend(classes)\n",
    "        else:\n",
    "            all_classes.append(\"no-class\")\n",
    "print(\"#:\", len(all_classes), \"Mb:\", len(\" \".join(all_classes)) // 1000000)"
   ]
  },
  {
   "cell_type": "code",
   "execution_count": 54,
   "metadata": {},
   "outputs": [
    {
     "name": "stdout",
     "output_type": "stream",
     "text": [
      "['dtlwc-report-t', 'bqe-id-t', 'nj', 'drjof-id-t', '--c-waypoint-waypoint-xsk', 'wi', 'amphtml-i-interfac-video', 'navig-target', 'i', 'aafa-sx']\n"
     ]
    }
   ],
   "source": [
    "from pha.glovehelper import vectorize\n",
    "class_vectors = vectorize(\n",
    "    all_classes, 50)\n",
    "print(list(class_vectors.keys())[:10])"
   ]
  },
  {
   "cell_type": "code",
   "execution_count": 55,
   "metadata": {},
   "outputs": [
    {
     "name": "stdout",
     "output_type": "stream",
     "text": [
      "#: 15403930 Mb: 60\n"
     ]
    }
   ],
   "source": [
    "tag_shuffled_histories = list(histories)\n",
    "random.shuffle(tag_shuffled_histories)\n",
    "all_tags = []\n",
    "for history in shuffled_histories:\n",
    "    for el in history.page.lxml.iter():\n",
    "        all_tags.append(el.tag)\n",
    "print(\"#:\", len(all_tags), \"Mb:\", len(\" \".join(all_tags)) // 1000000)"
   ]
  },
  {
   "cell_type": "code",
   "execution_count": 56,
   "metadata": {},
   "outputs": [
    {
     "name": "stdout",
     "output_type": "stream",
     "text": [
      "Number of tags: 588\n",
      "Removed 223 tags, with: 365 left\n"
     ]
    }
   ],
   "source": [
    "from collections import Counter\n",
    "tag_counter = Counter(all_tags)\n",
    "print(\"Number of tags:\", len(tag_counter))\n",
    "removed = 0\n",
    "for tag, count in tag_counter.most_common():\n",
    "    if count <= 5:\n",
    "        removed += 1\n",
    "        all_tags.remove(tag)\n",
    "        del tag_counter[tag]\n",
    "print(\"Removed\", removed, \"tags, with:\", len(tag_counter), \"left\")"
   ]
  },
  {
   "cell_type": "code",
   "execution_count": 57,
   "metadata": {},
   "outputs": [],
   "source": [
    "tag_vectors = vectorize(\n",
    "    all_tags, 20)"
   ]
  },
  {
   "cell_type": "code",
   "execution_count": 58,
   "metadata": {},
   "outputs": [],
   "source": [
    "import json\n",
    "json.dump({\"classes\": class_vectors, \"tags\": tag_vectors}, open(\"html-vectors.json\", \"w\"))"
   ]
  },
  {
   "cell_type": "code",
   "execution_count": null,
   "metadata": {},
   "outputs": [],
   "source": []
  }
 ],
 "metadata": {
  "kernelspec": {
   "display_name": "Python 3",
   "language": "python",
   "name": "python3"
  },
  "language_info": {
   "codemirror_mode": {
    "name": "ipython",
    "version": 3
   },
   "file_extension": ".py",
   "mimetype": "text/x-python",
   "name": "python",
   "nbconvert_exporter": "python",
   "pygments_lexer": "ipython3",
   "version": "3.5.1"
  }
 },
 "nbformat": 4,
 "nbformat_minor": 2
}
