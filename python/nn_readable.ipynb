{
 "cells": [
  {
   "cell_type": "markdown",
   "metadata": {},
   "source": [
    "## Get embeddings\n",
    "\n",
    "We have generated embeddings (number vectors) for both tags and class names. This was done in the notebook [analyze_classnames](./analyze_classnames.ipynb). The results of that have also been uploaded. We'll use the result of that notebook, or fetch it, and load the JSON file..."
   ]
  },
  {
   "cell_type": "code",
   "execution_count": 166,
   "metadata": {},
   "outputs": [
    {
     "name": "stdout",
     "output_type": "stream",
     "text": [
      "The autoreload extension is already loaded. To reload it, use:\n",
      "  %reload_ext autoreload\n",
      "Creating directory data/\n",
      "Reading 21132kb into data/html-vectors.json... done.\n",
      "Class example: ('-comment-item-option-tool', [0.267649, 0.060728, 0.372383, -0.167402, -0.42405, -0.213464, -0.18574, 0.22672, 0.159343, 0.14346, 0.225321, 0.350789, 0.218112, 0.276691, 0.447376, -0.192947, -0.290775, -0.259949, 0.388473, -0.310735, -0.424629, -0.472496, 0.188353, 0.150703, 0.112088, 0.265407, 0.222766, -0.08162, 0.402486, 0.190056, 0.430345, -0.476926, 0.11799, -0.422889, 0.111582, 0.288491, 0.013147, -0.005348, -0.018681, -0.291235, -0.016522, 0.251612, -0.322645, 0.318849, -0.48921, -0.307299, 0.004299, -0.581498, 0.13047, -0.641503])\n",
      "Tag example: ('nobr', [1.215299, 0.857834, 0.162706, 0.966696, 0.232542, 1.218955, 0.733365, 0.797194, -0.145894, -0.231142, -0.262402, -0.961403, -0.097864, -1.0834, 0.766679, 0.968583, 1.385928, 0.209797, -0.425753, -1.923545])\n"
     ]
    }
   ],
   "source": [
    "%load_ext autoreload\n",
    "%autoreload\n",
    "import json\n",
    "from pha.notebooktools import lazyget\n",
    "lazyget(\"https://raw.githubusercontent.com/ianb/personal-history-data/master/html-vectors.json\", \"data/html-vectors.json\")\n",
    "data = json.load(open(\"data/html-vectors.json\"))\n",
    "classname_vectors = data[\"classes\"]\n",
    "tag_vectors = data[\"tags\"]\n",
    "print(\"Class example:\", list(classname_vectors.items())[0])\n",
    "print(\"Tag example:\", list(tag_vectors.items())[0])"
   ]
  },
  {
   "cell_type": "markdown",
   "metadata": {},
   "source": [
    "## Create vectors for elements\n",
    "\n",
    "Now, given an element, we need to make a vector. \n",
    "\n",
    "A tag has a few properties:\n",
    "* One tag name\n",
    "* Zero or more class names\n",
    "* A number of immediate children\n",
    "* A number of descendants (including grandchildren, etc)\n",
    "* A number of words\n",
    "* Number of links\n",
    "\n",
    "We'll turn these into several vectors, all of which are concatenated. Several use a parameter `min(n / range, 1.0)` which we'll call `trunc_count(n, range)`\n",
    "\n",
    "* The tag vector\n",
    "* The sum of the class name vectors (or the vector for `no-class`)\n",
    "* `trunc_count(children, 10)`\n",
    "* `trunc_count(desc, 100)`\n",
    "* `trunc_count(words, 250)`\n",
    "* `links / words` or 0 if there are no words\n",
    "\n",
    "FIXME: add `display` property (i.e., block, block-ish like inline-block, or not-block)"
   ]
  },
  {
   "cell_type": "code",
   "execution_count": 167,
   "metadata": {},
   "outputs": [],
   "source": [
    "import numpy as np\n",
    "from pha import htmltools\n",
    "\n",
    "def trunc_count(n, max_count):\n",
    "    return min(n / max_count, 1.0)\n",
    "\n",
    "def get_classnames_vector(el):\n",
    "    classnames = htmltools.normalize_classes(el)\n",
    "    classnames = [classname_vectors[c] for c in classnames if c in classname_vectors] or [classname_vectors['no-class']]\n",
    "    return np.sum(classnames, axis=0)\n",
    "\n",
    "def get_tag_vector(el):\n",
    "    return tag_vectors.get(el.tag) or tag_vectors[\"div\"]\n",
    "\n",
    "def element_to_vector(el):\n",
    "    children = len(el)\n",
    "    desc = len(list(el.iter()))\n",
    "    words = len(el.text_content().split())\n",
    "    links = len(el.cssselect('a'))\n",
    "    classname_sum = get_classnames_vector(el)\n",
    "    tag_vector = get_tag_vector(el)\n",
    "    word_links = links / words if words else 0.0\n",
    "    vector = np.concatenate([\n",
    "        tag_vector,\n",
    "        classname_sum,\n",
    "        [trunc_count(children, 10), trunc_count(desc, 100), trunc_count(words, 250), word_links],\n",
    "    ])\n",
    "    return vector"
   ]
  },
  {
   "cell_type": "code",
   "execution_count": 126,
   "metadata": {
    "scrolled": true
   },
   "outputs": [
    {
     "name": "stdout",
     "output_type": "stream",
     "text": [
      "[-1.342614e+00 -9.486100e-02  4.825000e-02 -2.420997e+00  1.879200e-01\n",
      "  1.059590e+00  2.564651e+00  4.462840e-01  6.541920e-01 -8.095740e-01\n",
      " -6.323590e-01 -3.787137e+00  1.598670e-01 -2.616020e-01  3.036870e-01\n",
      " -1.347139e+00  1.822867e+00 -1.205438e+00  9.460170e-01 -1.036174e+00\n",
      " -2.597010e-01 -3.733580e-01  1.566220e-01  1.588957e+00  1.118785e+00\n",
      " -1.518593e+00 -7.373980e-01  6.349290e-01  5.760940e-01  2.792740e-01\n",
      " -1.000190e-01 -3.212480e-01 -1.515810e-01  1.517445e+00 -4.100120e-01\n",
      "  4.545120e-01 -1.409812e+00  2.038540e-01 -7.124000e-02 -1.194100e-02\n",
      " -4.407500e-01 -7.227330e-01  1.052250e+00 -8.168990e-01  1.433370e-01\n",
      " -1.351080e-01  2.169070e-01 -8.799660e-01  2.570460e-01 -4.959670e-01\n",
      " -4.564300e-02 -6.928400e-02  1.093841e+00 -1.262750e-01  9.825410e-01\n",
      " -1.089900e-01 -3.273710e-01  1.234727e+00 -1.384890e-01  1.434000e-03\n",
      "  3.838530e-01 -1.019180e-01  8.018710e-01  7.520770e-01 -1.827950e-01\n",
      "  4.175690e-01 -5.354360e-01  7.710520e-01 -4.671780e-01 -2.141180e-01\n",
      "  0.000000e+00  1.000000e-02  1.600000e-02  0.000000e+00] (74,)\n"
     ]
    }
   ],
   "source": [
    "# Let's test it out:\n",
    "import lxml.html\n",
    "\n",
    "example_el = lxml.html.fromstring('<div class=\"login\">this is an element</div>')\n",
    "print(element_to_vector(example_el), element_to_vector(example_el).shape)"
   ]
  },
  {
   "cell_type": "markdown",
   "metadata": {},
   "source": [
    "## Training data\n",
    "\n",
    "The training (Y) data is fairly simple: is the element readable or not? We'll use a vector of `[is_not_readable, is_readable]` for each item (so always `[1, 0]` for non-readable elements, and `[0, 1]` for readable elements.\n",
    "\n",
    "But not all elements are either! Specifically elements *inside* a readable element are readable, but aren't what we are selecting. These elements will be filtered out."
   ]
  },
  {
   "cell_type": "code",
   "execution_count": 211,
   "metadata": {},
   "outputs": [],
   "source": [
    "def iter_testable_elements(doc):\n",
    "    body = list(doc.iter(\"body\"))[0]\n",
    "    def iter_children(el):\n",
    "        for child in el:\n",
    "            if \"data-isreadable\" in child:\n",
    "                print(\"found\", child)\n",
    "                assert 0\n",
    "            if child.get(\"data-isreadable\"):\n",
    "                yield True, child\n",
    "            else:\n",
    "                yield False, child\n",
    "                yield from iter_children(child)\n",
    "    return iter_children(body)"
   ]
  },
  {
   "cell_type": "code",
   "execution_count": 132,
   "metadata": {},
   "outputs": [
    {
     "name": "stdout",
     "output_type": "stream",
     "text": [
      "[(False, <Element div at 0x496f5eae8>), (True, <Element ul at 0x496f5e458>), (False, <Element ol at 0x496f5eea8>), (False, <Element li at 0x496f5e098>), (False, <Element li at 0x496f5eb88>)]\n"
     ]
    }
   ],
   "source": [
    "example_doc = lxml.html.document_fromstring(\"\"\"\n",
    "<html><head><title>Test</title></head>\n",
    "<body><div><ul data-isreadable=\"1\"><li>1<li>2</ul>\n",
    "<ol><li>3<li>4</ol>\n",
    "</div></body></html>\n",
    "\"\"\")\n",
    "print(list(iter_testable_elements(example_doc)))"
   ]
  },
  {
   "cell_type": "markdown",
   "metadata": {},
   "source": [
    "## Actual training data\n",
    "\n",
    "To get real training data we have to load the history, get all the elements, convert them to vectors, and construct results along the way."
   ]
  },
  {
   "cell_type": "code",
   "execution_count": 267,
   "metadata": {},
   "outputs": [
    {
     "name": "stdout",
     "output_type": "stream",
     "text": [
      "<Archive at '/Users/ianbicking/src/personal-history-archive' 20978/54826 fetched, 32647 errored>\n",
      "16100\n"
     ]
    }
   ],
   "source": [
    "import pha\n",
    "import pha.htmltools\n",
    "import random\n",
    "archive = pha.Archive.default_location()\n",
    "print(archive)\n",
    "histories = archive.histories_with_page()\n",
    "random.shuffle(histories)\n",
    "print(len(histories))"
   ]
  },
  {
   "cell_type": "code",
   "execution_count": 170,
   "metadata": {},
   "outputs": [],
   "source": [
    "def generate_X_Y(element_to_vector, histories, select_unreadable=0.02):\n",
    "    X = []\n",
    "    Y = []\n",
    "    total = 0\n",
    "    with_readable = 0\n",
    "    for h in histories:\n",
    "        for is_readable, el in iter_testable_elements(h.page.lxml):\n",
    "            if not is_readable and random.random() > select_unreadable:\n",
    "                continue\n",
    "            total += 1\n",
    "            X.append(element_to_vector(el))\n",
    "            if is_readable:\n",
    "                with_readable += 1\n",
    "            Y.append([0., 1.] if is_readable else [1., 0.])\n",
    "    X = np.array(X)\n",
    "    Y = np.array(Y)\n",
    "    print(\"Total:\", total, \"with readable:\", with_readable)\n",
    "    return X, Y"
   ]
  },
  {
   "cell_type": "code",
   "execution_count": null,
   "metadata": {},
   "outputs": [],
   "source": [
    "X, Y = generate_X_Y(element_to_vector, histories)"
   ]
  },
  {
   "cell_type": "code",
   "execution_count": 97,
   "metadata": {},
   "outputs": [],
   "source": [
    "import h5py\n",
    "h5f = h5py.File('readable-training-data.h5', 'w')\n",
    "h5f.create_dataset('X_1', data=X, dtype=np.float32, compression=\"gzip\")\n",
    "h5f.create_dataset('Y_1', data=Y, dtype=np.int8, compression=\"gzip\")\n",
    "h5f.close()"
   ]
  },
  {
   "cell_type": "code",
   "execution_count": 154,
   "metadata": {},
   "outputs": [
    {
     "name": "stdout",
     "output_type": "stream",
     "text": [
      "X: <class 'numpy.ndarray'> <class 'numpy.ndarray'> 256890 (74,) sub-length: 74 size: 19 Y: 256890\n"
     ]
    }
   ],
   "source": [
    "print(\"X:\", type(X), type(X[0]), len(X), X[0].shape, \"sub-length:\", len(X[0]), \"size:\", len(X) * len(X[0]) // 1000000, \"Y:\", len(Y))"
   ]
  },
  {
   "cell_type": "code",
   "execution_count": 64,
   "metadata": {},
   "outputs": [
    {
     "name": "stdout",
     "output_type": "stream",
     "text": [
      "14996243 14996243\n"
     ]
    }
   ],
   "source": [
    "h5f = h5py.File('readable-training-data.h5', 'r')\n",
    "print(len(h5f['X_1']), len(h5f['Y_1']))\n",
    "h5f.close()"
   ]
  },
  {
   "cell_type": "code",
   "execution_count": 220,
   "metadata": {},
   "outputs": [],
   "source": [
    "def split_training(X, Y):\n",
    "    split = 8 * len(X) // 10\n",
    "    X_train, X_test = X[:split], X[split:]\n",
    "    Y_train, Y_test = Y[:split], Y[split:]\n",
    "    return X_train, X_test, Y_train, Y_test\n",
    "\n",
    "X_train, X_test, Y_train, Y_test = split_training(X, Y)"
   ]
  },
  {
   "cell_type": "code",
   "execution_count": 156,
   "metadata": {},
   "outputs": [],
   "source": [
    "from keras.models import Sequential\n",
    "from keras.layers import Dense, Dropout\n",
    "\n",
    "def make_model(input_shape):\n",
    "    model = Sequential()\n",
    "    model.add(Dense(input_shape[0], input_shape=input_shape))\n",
    "    model.add(Dropout(0.2))\n",
    "    model.add(Dense(256, input_shape=input_shape))\n",
    "    model.add(Dense(2, activation='softmax')) # is readable, or is not readable\n",
    "    model.compile(\n",
    "        optimizer='rmsprop', \n",
    "        loss='categorical_crossentropy',\n",
    "        metrics=['accuracy'])\n",
    "    return model\n",
    "\n",
    "model = make_model(X[0].shape)"
   ]
  },
  {
   "cell_type": "code",
   "execution_count": 157,
   "metadata": {},
   "outputs": [
    {
     "name": "stdout",
     "output_type": "stream",
     "text": [
      "\n",
      "Epoch 00001: val_loss improved from inf to 0.05133, saving model to readable-model-best.h5\n",
      "\n",
      "Epoch 00002: val_loss did not improve\n",
      "\n",
      "Epoch 00003: val_loss did not improve\n",
      "\n",
      "Epoch 00004: val_loss did not improve\n",
      "\n",
      "Epoch 00005: val_loss did not improve\n",
      "\n",
      "Epoch 00006: val_loss did not improve\n",
      "\n",
      "Epoch 00007: val_loss did not improve\n",
      "\n",
      "Epoch 00008: val_loss did not improve\n",
      "\n",
      "Epoch 00009: val_loss did not improve\n",
      "\n",
      "Epoch 00010: val_loss improved from 0.05133 to 0.05114, saving model to readable-model-best.h5\n",
      "\n",
      "Epoch 00011: val_loss did not improve\n",
      "\n",
      "Epoch 00012: val_loss did not improve\n",
      "\n",
      "Epoch 00013: val_loss did not improve\n",
      "\n",
      "Epoch 00014: val_loss did not improve\n",
      "\n",
      "Epoch 00015: val_loss did not improve\n",
      "\n",
      "Epoch 00016: val_loss did not improve\n",
      "\n",
      "Epoch 00017: val_loss did not improve\n",
      "\n",
      "Epoch 00018: val_loss improved from 0.05114 to 0.05059, saving model to readable-model-best.h5\n",
      "\n",
      "Epoch 00019: val_loss did not improve\n",
      "\n",
      "Epoch 00020: val_loss did not improve\n",
      "\n",
      "Epoch 00021: val_loss did not improve\n",
      "\n",
      "Epoch 00022: val_loss did not improve\n",
      "\n",
      "Epoch 00023: val_loss did not improve\n",
      "\n",
      "Epoch 00024: val_loss did not improve\n",
      "\n",
      "Epoch 00025: val_loss did not improve\n",
      "\n",
      "Epoch 00026: val_loss did not improve\n",
      "\n",
      "Epoch 00027: val_loss did not improve\n",
      "\n",
      "Epoch 00028: val_loss did not improve\n",
      "\n",
      "Epoch 00029: val_loss did not improve\n",
      "\n",
      "Epoch 00030: val_loss did not improve\n",
      "\n",
      "Epoch 00031: val_loss did not improve\n",
      "\n",
      "Epoch 00032: val_loss did not improve\n",
      "\n",
      "Epoch 00033: val_loss did not improve\n",
      "\n",
      "Epoch 00034: val_loss did not improve\n",
      "\n",
      "Epoch 00035: val_loss did not improve\n",
      "\n",
      "Epoch 00036: val_loss did not improve\n",
      "\n",
      "Epoch 00037: val_loss did not improve\n",
      "\n",
      "Epoch 00038: val_loss did not improve\n",
      "\n",
      "Epoch 00039: val_loss did not improve\n",
      "\n",
      "Epoch 00040: val_loss did not improve\n",
      "\n",
      "Epoch 00041: val_loss did not improve\n",
      "\n",
      "Epoch 00042: val_loss did not improve\n",
      "\n",
      "Epoch 00043: val_loss did not improve\n",
      "\n",
      "Epoch 00044: val_loss did not improve\n",
      "\n",
      "Epoch 00045: val_loss did not improve\n",
      "\n",
      "Epoch 00046: val_loss did not improve\n",
      "\n",
      "Epoch 00047: val_loss did not improve\n",
      "\n",
      "Epoch 00048: val_loss improved from 0.05059 to 0.05006, saving model to readable-model-best.h5\n",
      "\n",
      "Epoch 00049: val_loss did not improve\n",
      "\n",
      "Epoch 00050: val_loss did not improve\n",
      "Accuracy: [0.06527374820363409, 0.9771497528124878] ['loss', 'acc']\n"
     ]
    }
   ],
   "source": [
    "from keras.callbacks import ModelCheckpoint\n",
    "\n",
    "checkpointer = ModelCheckpoint(\n",
    "    filepath='readable-model-best.h5', \n",
    "    verbose=1, save_best_only=True)\n",
    "hist = model.fit(\n",
    "    np.array(X_train), np.array(Y_train), \n",
    "    batch_size=128, epochs=50,\n",
    "    validation_split=0.2, \n",
    "    callbacks=[checkpointer],\n",
    "    verbose=0, shuffle=True)\n",
    "model.load_weights('readable-model-best.h5')\n",
    "score = model.evaluate(np.array(X_test), np.array(Y_test), verbose=0)\n",
    "print(\"Accuracy:\", score, model.metrics_names)"
   ]
  },
  {
   "cell_type": "code",
   "execution_count": 228,
   "metadata": {},
   "outputs": [
    {
     "name": "stdout",
     "output_type": "stream",
     "text": [
      "Got readable right 826 and wrong 977 0.5418746533555185\n",
      "Got unreadable right 49378 and wrong 197 0.003973777105395865\n"
     ]
    }
   ],
   "source": [
    "def evaluate_model(model, X_test, Y_test):\n",
    "    right_readable = wrong_readable = right_unreadable = wrong_unreadable = 0\n",
    "    for el, result in list(zip(X_test, Y_test)):\n",
    "        predict = model.predict(numpy.array([el]))\n",
    "        predict_readable = predict[0][0] < predict[0][1]\n",
    "        is_readable = result[0] < result[1]\n",
    "        if is_readable:\n",
    "            if predict_readable:\n",
    "                right_readable += 1\n",
    "            else:\n",
    "                wrong_readable += 1\n",
    "        elif predict_readable:\n",
    "            wrong_unreadable += 1\n",
    "        else:\n",
    "            right_unreadable += 1\n",
    "    print(\"Got readable right\", right_readable, \"and wrong\", wrong_readable, \n",
    "          wrong_readable / (right_readable + wrong_readable))\n",
    "    print(\"Got unreadable right\", right_unreadable, \"and wrong\", wrong_unreadable,\n",
    "          wrong_unreadable / (right_unreadable + wrong_unreadable))\n",
    "    \n",
    "evaluate_model(model, X_test, Y_test)"
   ]
  },
  {
   "cell_type": "markdown",
   "metadata": {},
   "source": [
    "## A new vector representation\n",
    "\n",
    "Let's try giving the model a bit more information, essentially a sort of \"window\" for the element.\n",
    "\n",
    "We'll use the previous vector representation, but add in:\n",
    "\n",
    "- The tag and classname vectors for the parent node\n",
    "- The sum of all the tag and classname vectors for the child node (but not descendants)"
   ]
  },
  {
   "cell_type": "code",
   "execution_count": 184,
   "metadata": {},
   "outputs": [],
   "source": [
    "def contextualized_element_to_vector(el):\n",
    "    parent = el.getparent()\n",
    "    if not len(el):\n",
    "        children_tags = tag_vectors[\"span\"]\n",
    "        children_classnames = classname_vectors[\"no-class\"]\n",
    "    else:\n",
    "        children_tags = np.sum([get_tag_vector(child) for child in el], axis=0)\n",
    "        children_classnames = np.sum([get_classnames_vector(child) for child in el], axis=0)\n",
    "    return np.concatenate([\n",
    "        element_to_vector(el),\n",
    "        children_tags,\n",
    "        children_classnames,\n",
    "        get_tag_vector(parent),\n",
    "        get_classnames_vector(parent),\n",
    "    ])"
   ]
  },
  {
   "cell_type": "code",
   "execution_count": 230,
   "metadata": {},
   "outputs": [
    {
     "name": "stdout",
     "output_type": "stream",
     "text": [
      "Total: 35661 with readable: 9052\n"
     ]
    }
   ],
   "source": [
    "context_X, context_Y = generate_X_Y(contextualized_element_to_vector, histories, select_unreadable=0.0007 * 3)"
   ]
  },
  {
   "cell_type": "code",
   "execution_count": 231,
   "metadata": {},
   "outputs": [
    {
     "name": "stdout",
     "output_type": "stream",
     "text": [
      "readable 9052 unreadable 12713809 ratio 1404.5303800265135 or 0.0007119817514955589\n"
     ]
    }
   ],
   "source": [
    "## For reasons I do not understand, this doesn't work:\n",
    "# from collections import Counter\n",
    "# c = Counter([result[0] for result in iter_testable_elements(h.page.lxml) for h in histories])\n",
    "# print(c)\n",
    "## But this does:\n",
    "readable = unreadable = 0\n",
    "for h in histories:\n",
    "    for r, el in iter_testable_elements(h.page.lxml):\n",
    "        if r:\n",
    "            readable += 1\n",
    "        else:\n",
    "            unreadable += 1\n",
    "print(\"readable\", readable, \"unreadable\", unreadable, \"ratio\", unreadable / readable, \"or\", readable / unreadable)"
   ]
  },
  {
   "cell_type": "code",
   "execution_count": 232,
   "metadata": {},
   "outputs": [],
   "source": [
    "context_X_train, context_X_test, context_Y_train, context_Y_test = split_training(context_X, context_Y)"
   ]
  },
  {
   "cell_type": "code",
   "execution_count": 233,
   "metadata": {},
   "outputs": [
    {
     "name": "stdout",
     "output_type": "stream",
     "text": [
      "\n",
      "Epoch 00001: val_loss did not improve\n",
      "\n",
      "Epoch 00002: val_loss did not improve\n",
      "\n",
      "Epoch 00003: val_loss did not improve\n",
      "\n",
      "Epoch 00004: val_loss did not improve\n",
      "\n",
      "Epoch 00005: val_loss did not improve\n",
      "\n",
      "Epoch 00006: val_loss did not improve\n",
      "\n",
      "Epoch 00007: val_loss improved from 0.11298 to 0.09876, saving model to readable-model2-best.h5\n",
      "\n",
      "Epoch 00008: val_loss did not improve\n",
      "\n",
      "Epoch 00009: val_loss improved from 0.09876 to 0.09309, saving model to readable-model2-best.h5\n",
      "\n",
      "Epoch 00010: val_loss improved from 0.09309 to 0.08839, saving model to readable-model2-best.h5\n",
      "\n",
      "Epoch 00011: val_loss did not improve\n",
      "\n",
      "Epoch 00012: val_loss did not improve\n",
      "\n",
      "Epoch 00013: val_loss did not improve\n",
      "\n",
      "Epoch 00014: val_loss improved from 0.08839 to 0.08524, saving model to readable-model2-best.h5\n",
      "\n",
      "Epoch 00015: val_loss did not improve\n",
      "\n",
      "Epoch 00016: val_loss did not improve\n",
      "\n",
      "Epoch 00017: val_loss did not improve\n",
      "\n",
      "Epoch 00018: val_loss did not improve\n",
      "\n",
      "Epoch 00019: val_loss did not improve\n",
      "\n",
      "Epoch 00020: val_loss improved from 0.08524 to 0.08315, saving model to readable-model2-best.h5\n",
      "\n",
      "Epoch 00021: val_loss did not improve\n",
      "\n",
      "Epoch 00022: val_loss did not improve\n",
      "\n",
      "Epoch 00023: val_loss did not improve\n",
      "\n",
      "Epoch 00024: val_loss did not improve\n",
      "\n",
      "Epoch 00025: val_loss did not improve\n",
      "\n",
      "Epoch 00026: val_loss did not improve\n",
      "\n",
      "Epoch 00027: val_loss did not improve\n",
      "\n",
      "Epoch 00028: val_loss did not improve\n",
      "\n",
      "Epoch 00029: val_loss did not improve\n",
      "\n",
      "Epoch 00030: val_loss did not improve\n",
      "\n",
      "Epoch 00031: val_loss did not improve\n",
      "\n",
      "Epoch 00032: val_loss did not improve\n",
      "\n",
      "Epoch 00033: val_loss did not improve\n",
      "\n",
      "Epoch 00034: val_loss did not improve\n",
      "\n",
      "Epoch 00035: val_loss did not improve\n",
      "\n",
      "Epoch 00036: val_loss did not improve\n",
      "\n",
      "Epoch 00037: val_loss did not improve\n",
      "\n",
      "Epoch 00038: val_loss did not improve\n",
      "\n",
      "Epoch 00039: val_loss did not improve\n",
      "\n",
      "Epoch 00040: val_loss did not improve\n",
      "\n",
      "Epoch 00041: val_loss did not improve\n",
      "\n",
      "Epoch 00042: val_loss did not improve\n",
      "\n",
      "Epoch 00043: val_loss did not improve\n",
      "\n",
      "Epoch 00044: val_loss did not improve\n",
      "\n",
      "Epoch 00045: val_loss did not improve\n",
      "\n",
      "Epoch 00046: val_loss did not improve\n",
      "\n",
      "Epoch 00047: val_loss did not improve\n",
      "\n",
      "Epoch 00048: val_loss did not improve\n",
      "\n",
      "Epoch 00049: val_loss did not improve\n",
      "\n",
      "Epoch 00050: val_loss did not improve\n"
     ]
    }
   ],
   "source": [
    "from keras.callbacks import ModelCheckpoint\n",
    "\n",
    "context_model = make_model(context_X[0].shape)\n",
    "\n",
    "context_checkpointer = ModelCheckpoint(\n",
    "    filepath='readable-model2-best.h5', \n",
    "    verbose=1, save_best_only=True)\n",
    "context_hist = context_model.fit(\n",
    "    np.array(context_X_train), np.array(context_Y_train), \n",
    "    batch_size=128, epochs=50,\n",
    "    validation_split=0.2, \n",
    "    callbacks=[checkpointer],\n",
    "    verbose=0, shuffle=True)\n",
    "context_model.load_weights('readable-model2-best.h5')"
   ]
  },
  {
   "cell_type": "code",
   "execution_count": 234,
   "metadata": {},
   "outputs": [
    {
     "name": "stdout",
     "output_type": "stream",
     "text": [
      "Accuracy: [0.10461074322854823, 0.9733632411977511] ['loss', 'acc']\n",
      "Got readable right 1781 and wrong 79 0.04247311827956989\n",
      "Got unreadable right 5162 and wrong 111 0.02105063531196662\n"
     ]
    }
   ],
   "source": [
    "score = context_model.evaluate(np.array(context_X_test), np.array(context_Y_test), verbose=0)\n",
    "print(\"Accuracy:\", score, context_model.metrics_names)\n",
    "evaluate_model(context_model, context_X_test, context_Y_test)"
   ]
  },
  {
   "cell_type": "code",
   "execution_count": 276,
   "metadata": {},
   "outputs": [],
   "source": [
    "%autoreload\n",
    "import pha\n",
    "import pha.htmltools\n",
    "from pha.notebooktools import display_html\n",
    "import lxml.html\n",
    "from IPython.core.display import display, HTML\n",
    "\n",
    "def create_readable(page):\n",
    "    body = page.lxml.find(\"body\")\n",
    "    readable = lxml.html.fragment_fromstring(\"<div></div>\")\n",
    "    for el in body.iter():\n",
    "        el_vector = contextualized_element_to_vector(el)\n",
    "        predict = context_model.predict(numpy.array([el_vector]))\n",
    "        if predict[0][0] < predict[0][1]:\n",
    "            readable.append(el)\n",
    "    if not len(readable):\n",
    "        return None\n",
    "    return readable\n",
    "\n",
    "def show_readable(page):\n",
    "    if isinstance(page, pha.Page) or hasattr(page, \"lxml\"):\n",
    "        page = create_readable(page)\n",
    "    if page is None:\n",
    "        print(\"No readable version to show\")\n",
    "    display_html(page)\n"
   ]
  },
  {
   "cell_type": "code",
   "execution_count": 277,
   "metadata": {},
   "outputs": [
    {
     "data": {
      "text/html": [
       "\n",
       "    <div>\n",
       "      \n",
       "      <iframe style=\"width: 100%; height: 12em; overflow: scroll\" scrolling=\"yes\" src=\"data:text/html;base64,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\"></iframe>\n",
       "      \n",
       "    </div>\n",
       "    "
      ],
      "text/plain": [
       "<IPython.core.display.HTML object>"
      ]
     },
     "metadata": {},
     "output_type": "display_data"
    }
   ],
   "source": [
    "show_readable(histories[1].page)"
   ]
  },
  {
   "cell_type": "code",
   "execution_count": null,
   "metadata": {},
   "outputs": [],
   "source": []
  }
 ],
 "metadata": {
  "kernelspec": {
   "display_name": "Python 3",
   "language": "python",
   "name": "python3"
  }
 },
 "nbformat": 4,
 "nbformat_minor": 2
}
